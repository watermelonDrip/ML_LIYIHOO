{
  "nbformat": 4,
  "nbformat_minor": 5,
  "metadata": {
    "kernelspec": {
      "display_name": "Python 3",
      "language": "python",
      "name": "python3"
    },
    "language_info": {
      "codemirror_mode": {
        "name": "ipython",
        "version": 3
      },
      "file_extension": ".py",
      "mimetype": "text/x-python",
      "name": "python",
      "nbconvert_exporter": "python",
      "pygments_lexer": "ipython3",
      "version": "3.7.9"
    },
    "papermill": {
      "default_parameters": {},
      "duration": 49.074412,
      "end_time": "2021-05-08T06:56:52.355890",
      "environment_variables": {},
      "exception": null,
      "input_path": "__notebook__.ipynb",
      "output_path": "__notebook__.ipynb",
      "parameters": {},
      "start_time": "2021-05-08T06:56:03.281478",
      "version": "2.3.2"
    },
    "colab": {
      "name": "hw1-mediumline.ipynb",
      "provenance": [],
      "include_colab_link": true
    }
  },
  "cells": [
    {
      "cell_type": "markdown",
      "metadata": {
        "id": "view-in-github",
        "colab_type": "text"
      },
      "source": [
        "<a href=\"https://colab.research.google.com/github/watermelonDrip/ML_LIYIHOO/blob/master/hw1_mediumline.ipynb\" target=\"_parent\"><img src=\"https://colab.research.google.com/assets/colab-badge.svg\" alt=\"Open In Colab\"/></a>"
      ]
    },
    {
      "cell_type": "code",
      "metadata": {
        "_cell_guid": "b1076dfc-b9ad-4769-8c92-a6c4dae69d19",
        "_uuid": "8f2839f25d086af736a60e9eeb907d3b93b6e0e5",
        "execution": {
          "iopub.execute_input": "2021-05-08T06:56:10.795058Z",
          "iopub.status.busy": "2021-05-08T06:56:10.794257Z",
          "iopub.status.idle": "2021-05-08T06:56:10.800941Z",
          "shell.execute_reply": "2021-05-08T06:56:10.801460Z"
        },
        "papermill": {
          "duration": 0.035015,
          "end_time": "2021-05-08T06:56:10.801779",
          "exception": false,
          "start_time": "2021-05-08T06:56:10.766764",
          "status": "completed"
        },
        "tags": [],
        "id": "earned-spending"
      },
      "source": [
        "# This Python 3 environment comes with many helpful analytics libraries installed\n",
        "# It is defined by the kaggle/python Docker image: https://github.com/kaggle/docker-python\n",
        "# For example, here's several helpful packages to load\n",
        "\n",
        "import numpy as np # linear algebra\n",
        "import pandas as pd # data processing, CSV file I/O (e.g. pd.read_csv)\n",
        "\n",
        "# Input data files are available in the read-only \"../input/\" directory\n",
        "# For example, running this (by clicking run or pressing Shift+Enter) will list all files under the input directory\n",
        "\n",
        "import os\n",
        "for dirname, _, filenames in os.walk('/kaggle/input'):\n",
        "    for filename in filenames:\n",
        "        print(os.path.join(dirname, filename))\n",
        "\n",
        "# You can write up to 20GB to the current directory (/kaggle/working/) that gets preserved as output when you create a version using \"Save & Run All\" \n",
        "# You can also write temporary files to /kaggle/temp/, but they won't be saved outside of the current session"
      ],
      "id": "earned-spending",
      "execution_count": 165,
      "outputs": []
    },
    {
      "cell_type": "markdown",
      "metadata": {
        "papermill": {
          "duration": 0.018195,
          "end_time": "2021-05-08T06:56:10.839375",
          "exception": false,
          "start_time": "2021-05-08T06:56:10.821180",
          "status": "completed"
        },
        "tags": [],
        "id": "different-microwave"
      },
      "source": [
        "# **Homework 1: COVID-19 Cases Prediction (Regression)**"
      ],
      "id": "different-microwave"
    },
    {
      "cell_type": "markdown",
      "metadata": {
        "papermill": {
          "duration": 0.019564,
          "end_time": "2021-05-08T06:56:10.878316",
          "exception": false,
          "start_time": "2021-05-08T06:56:10.858752",
          "status": "completed"
        },
        "tags": [],
        "id": "universal-article"
      },
      "source": [
        "# Download Data"
      ],
      "id": "universal-article"
    },
    {
      "cell_type": "code",
      "metadata": {
        "execution": {
          "iopub.execute_input": "2021-05-08T06:56:10.924790Z",
          "iopub.status.busy": "2021-05-08T06:56:10.923760Z",
          "iopub.status.idle": "2021-05-08T06:56:12.408076Z",
          "shell.execute_reply": "2021-05-08T06:56:12.407455Z"
        },
        "papermill": {
          "duration": 1.51077,
          "end_time": "2021-05-08T06:56:12.408236",
          "exception": false,
          "start_time": "2021-05-08T06:56:10.897466",
          "status": "completed"
        },
        "tags": [],
        "colab": {
          "base_uri": "https://localhost:8080/"
        },
        "id": "induced-detail",
        "outputId": "0d366c4e-41f5-447a-c828-858e4bbc613f"
      },
      "source": [
        "#tr_path = '../input/ml2021spring-hw1/covid.train.csv'  # path to training data\n",
        "#tt_path = '../input/ml2021spring-hw1/covid.test.csv'   # path to testing data\n",
        "tr_path = 'covid.train.csv'  # path to training data\n",
        "tt_path = 'covid.test.csv'   # path to testing data\n",
        "!gdown --id '19CCyCgJrUxtvgZF53vnctJiOJ23T5mqF' --output covid.train.csv\n",
        "!gdown --id '1CE240jLm2npU-tdz81-oVKEF3T2yfT1O' --output covid.test.csv"
      ],
      "id": "induced-detail",
      "execution_count": 166,
      "outputs": [
        {
          "output_type": "stream",
          "name": "stdout",
          "text": [
            "Downloading...\n",
            "From: https://drive.google.com/uc?id=19CCyCgJrUxtvgZF53vnctJiOJ23T5mqF\n",
            "To: /content/covid.train.csv\n",
            "100% 2.00M/2.00M [00:00<00:00, 9.34MB/s]\n",
            "Downloading...\n",
            "From: https://drive.google.com/uc?id=1CE240jLm2npU-tdz81-oVKEF3T2yfT1O\n",
            "To: /content/covid.test.csv\n",
            "100% 651k/651k [00:00<00:00, 3.98MB/s]\n"
          ]
        }
      ]
    },
    {
      "cell_type": "markdown",
      "metadata": {
        "papermill": {
          "duration": 0.020685,
          "end_time": "2021-05-08T06:56:12.448681",
          "exception": false,
          "start_time": "2021-05-08T06:56:12.427996",
          "status": "completed"
        },
        "tags": [],
        "id": "liquid-travel"
      },
      "source": [
        "# Import Some Packages"
      ],
      "id": "liquid-travel"
    },
    {
      "cell_type": "code",
      "metadata": {
        "execution": {
          "iopub.execute_input": "2021-05-08T06:56:12.497138Z",
          "iopub.status.busy": "2021-05-08T06:56:12.496380Z",
          "iopub.status.idle": "2021-05-08T06:56:13.770695Z",
          "shell.execute_reply": "2021-05-08T06:56:13.769810Z"
        },
        "papermill": {
          "duration": 1.302657,
          "end_time": "2021-05-08T06:56:13.770899",
          "exception": false,
          "start_time": "2021-05-08T06:56:12.468242",
          "status": "completed"
        },
        "tags": [],
        "id": "embedded-stocks"
      },
      "source": [
        "# PyTorch\n",
        "import torch\n",
        "import torch.nn as nn\n",
        "from torch.utils.data import Dataset, DataLoader\n",
        "\n",
        "# For data preprocess\n",
        "import numpy as np\n",
        "import csv\n",
        "import os\n",
        "\n",
        "# For plotting\n",
        "import matplotlib.pyplot as plt\n",
        "from matplotlib.pyplot import figure\n",
        "\n",
        "myseed = 42069  # set a random seed for reproducibility\n",
        "torch.backends.cudnn.deterministic = True\n",
        "torch.backends.cudnn.benchmark = False\n",
        "np.random.seed(myseed)\n",
        "torch.manual_seed(myseed)\n",
        "if torch.cuda.is_available():\n",
        "    torch.cuda.manual_seed_all(myseed)"
      ],
      "id": "embedded-stocks",
      "execution_count": 167,
      "outputs": []
    },
    {
      "cell_type": "markdown",
      "metadata": {
        "papermill": {
          "duration": 0.019565,
          "end_time": "2021-05-08T06:56:13.810631",
          "exception": false,
          "start_time": "2021-05-08T06:56:13.791066",
          "status": "completed"
        },
        "tags": [],
        "id": "spoken-venture"
      },
      "source": [
        "# Some Utilities"
      ],
      "id": "spoken-venture"
    },
    {
      "cell_type": "code",
      "metadata": {
        "execution": {
          "iopub.execute_input": "2021-05-08T06:56:13.867654Z",
          "iopub.status.busy": "2021-05-08T06:56:13.866875Z",
          "iopub.status.idle": "2021-05-08T06:56:13.870079Z",
          "shell.execute_reply": "2021-05-08T06:56:13.870622Z"
        },
        "papermill": {
          "duration": 0.040247,
          "end_time": "2021-05-08T06:56:13.870852",
          "exception": false,
          "start_time": "2021-05-08T06:56:13.830605",
          "status": "completed"
        },
        "tags": [],
        "id": "eligible-store"
      },
      "source": [
        "def get_device():\n",
        "    ''' Get device (if GPU is available, use GPU) '''\n",
        "    return 'cuda' if torch.cuda.is_available() else 'cpu'\n",
        "\n",
        "def plot_learning_curve(loss_record, title=''):\n",
        "    ''' Plot learning curve of your DNN (train & dev loss) '''\n",
        "    total_steps = len(loss_record['train'])\n",
        "    x_1 = range(total_steps)\n",
        "    x_2 = x_1[::len(loss_record['train']) // len(loss_record['dev'])]\n",
        "    figure(figsize=(6, 4))\n",
        "    plt.plot(x_1, loss_record['train'], c='tab:red', label='train')\n",
        "    plt.plot(x_2, loss_record['dev'], c='tab:cyan', label='dev')\n",
        "    plt.ylim(0.0, 5.)\n",
        "    plt.xlabel('Training steps')\n",
        "    plt.ylabel('MSE loss')\n",
        "    plt.title('Learning curve of {}'.format(title))\n",
        "    plt.legend()\n",
        "    plt.show()\n",
        "\n",
        "\n",
        "def plot_pred(dv_set, model, device, lim=35., preds=None, targets=None):\n",
        "    ''' Plot prediction of your DNN '''\n",
        "    if preds is None or targets is None:\n",
        "        model.eval()\n",
        "        preds, targets = [], []\n",
        "        for x, y in dv_set:\n",
        "            x, y = x.to(device), y.to(device)\n",
        "            with torch.no_grad():\n",
        "                pred = model(x)\n",
        "                preds.append(pred.detach().cpu())\n",
        "                targets.append(y.detach().cpu())\n",
        "        preds = torch.cat(preds, dim=0).numpy()\n",
        "        targets = torch.cat(targets, dim=0).numpy()\n",
        "\n",
        "    figure(figsize=(5, 5))\n",
        "    plt.scatter(targets, preds, c='r', alpha=0.5)\n",
        "    plt.plot([-0.2, lim], [-0.2, lim], c='b')\n",
        "    plt.xlim(-0.2, lim)\n",
        "    plt.ylim(-0.2, lim)\n",
        "    plt.xlabel('ground truth value')\n",
        "    plt.ylabel('predicted value')\n",
        "    plt.title('Ground Truth v.s. Prediction')\n",
        "    plt.show()"
      ],
      "id": "eligible-store",
      "execution_count": 168,
      "outputs": []
    },
    {
      "cell_type": "markdown",
      "metadata": {
        "papermill": {
          "duration": 0.019677,
          "end_time": "2021-05-08T06:56:13.910963",
          "exception": false,
          "start_time": "2021-05-08T06:56:13.891286",
          "status": "completed"
        },
        "tags": [],
        "id": "basic-leisure"
      },
      "source": [
        "# Dataset"
      ],
      "id": "basic-leisure"
    },
    {
      "cell_type": "code",
      "metadata": {
        "execution": {
          "iopub.execute_input": "2021-05-08T06:56:13.960644Z",
          "iopub.status.busy": "2021-05-08T06:56:13.959854Z",
          "iopub.status.idle": "2021-05-08T06:56:13.968437Z",
          "shell.execute_reply": "2021-05-08T06:56:13.968954Z"
        },
        "papermill": {
          "duration": 0.03816,
          "end_time": "2021-05-08T06:56:13.969169",
          "exception": false,
          "start_time": "2021-05-08T06:56:13.931009",
          "status": "completed"
        },
        "tags": [],
        "id": "postal-immune"
      },
      "source": [
        "class COVID19Dataset(Dataset):\n",
        "    ''' Dataset for loading and preprocessing the COVID19 dataset '''\n",
        "    def __init__(self,\n",
        "                 path,\n",
        "                 mode='train',\n",
        "                 target_only=False):\n",
        "        self.mode = mode\n",
        "\n",
        "        # Read data into numpy arrays\n",
        "        with open(path, 'r') as fp:\n",
        "            print(path,fp)\n",
        "            data = list(csv.reader(fp))\n",
        "            data = np.array(data[1:])[:, 1:].astype(float)\n",
        "         \n",
        "        \n",
        "        if not target_only:\n",
        "            feats = list(range(93))\n",
        "        else:\n",
        "            # TODO: Using 40 states & 2 tested_positive features (indices = 57 & 75)\n",
        "            feats = list(range(40)) + [57]+ [75] \n",
        "            \n",
        "             \n",
        "            #pass\n",
        "\n",
        "        if mode == 'test':\n",
        "            # Testing data\n",
        "            # data: 893 x 93 (40 states + day 1 (18) + day 2 (18) + day 3 (17))\n",
        "            data = data[:, feats]\n",
        "            self.data = torch.FloatTensor(data)\n",
        "        else:\n",
        "            # Training data (train/dev sets)\n",
        "            # data: 2700 x 94 (40 states + day 1 (18) + day 2 (18) + day 3 (18))\n",
        "            target = data[:, -1]\n",
        "            data = data[:, feats]\n",
        "            \n",
        "            # Splitting training data into train & dev sets\n",
        "            if mode == 'train':\n",
        "                indices = [i for i in range(len(data)) if i % 10 != 0]\n",
        "            elif mode == 'dev':\n",
        "                indices = [i for i in range(len(data)) if i % 10 == 0]\n",
        "            \n",
        "            # Convert data into PyTorch tensors\n",
        "            self.data = torch.FloatTensor(data[indices])\n",
        "            self.target = torch.FloatTensor(target[indices])\n",
        "\n",
        "        # Normalize features (you may remove this part to see what will happen)\n",
        "        self.data[:, 40:] = \\\n",
        "            (self.data[:, 40:] - self.data[:, 40:].mean(dim=0, keepdim=True)) \\\n",
        "            / self.data[:, 40:].std(dim=0, keepdim=True)\n",
        "\n",
        "        self.dim = self.data.shape[1]\n",
        "\n",
        "        print('Finished reading the {} set of COVID19 Dataset ({} samples found, each dim = {})'\n",
        "              .format(mode, len(self.data), self.dim))\n",
        "\n",
        "    def __getitem__(self, index):\n",
        "        # Returns one sample at a time\n",
        "        if self.mode in ['train', 'dev']:\n",
        "            # For training\n",
        "            return self.data[index], self.target[index]\n",
        "        else:\n",
        "            # For testing (no target)\n",
        "            return self.data[index]\n",
        "\n",
        "    def __len__(self):\n",
        "        # Returns the size of the dataset\n",
        "        return len(self.data)"
      ],
      "id": "postal-immune",
      "execution_count": 169,
      "outputs": []
    },
    {
      "cell_type": "code",
      "metadata": {
        "id": "X5PJm0vL1YMl"
      },
      "source": [
        ""
      ],
      "id": "X5PJm0vL1YMl",
      "execution_count": 169,
      "outputs": []
    },
    {
      "cell_type": "markdown",
      "metadata": {
        "papermill": {
          "duration": 0.0203,
          "end_time": "2021-05-08T06:56:14.009558",
          "exception": false,
          "start_time": "2021-05-08T06:56:13.989258",
          "status": "completed"
        },
        "tags": [],
        "id": "molecular-constitution"
      },
      "source": [
        "# DataLoader"
      ],
      "id": "molecular-constitution"
    },
    {
      "cell_type": "code",
      "metadata": {
        "execution": {
          "iopub.execute_input": "2021-05-08T06:56:14.054066Z",
          "iopub.status.busy": "2021-05-08T06:56:14.053259Z",
          "iopub.status.idle": "2021-05-08T06:56:14.058911Z",
          "shell.execute_reply": "2021-05-08T06:56:14.059439Z"
        },
        "papermill": {
          "duration": 0.030164,
          "end_time": "2021-05-08T06:56:14.059730",
          "exception": false,
          "start_time": "2021-05-08T06:56:14.029566",
          "status": "completed"
        },
        "tags": [],
        "id": "thirty-absorption"
      },
      "source": [
        "def prep_dataloader(path, mode, batch_size, n_jobs=0, target_only=False):\n",
        "    ''' Generates a dataset, then is put into a dataloader. '''\n",
        "    dataset = COVID19Dataset(path, mode=mode, target_only=target_only)  # Construct dataset\n",
        "    dataloader = DataLoader(\n",
        "        dataset, batch_size,\n",
        "        shuffle=(mode == 'train'), drop_last=False,\n",
        "        num_workers=n_jobs, pin_memory=True)                            # Construct dataloader\n",
        "    return dataloader"
      ],
      "id": "thirty-absorption",
      "execution_count": 170,
      "outputs": []
    },
    {
      "cell_type": "markdown",
      "metadata": {
        "papermill": {
          "duration": 0.019549,
          "end_time": "2021-05-08T06:56:14.099362",
          "exception": false,
          "start_time": "2021-05-08T06:56:14.079813",
          "status": "completed"
        },
        "tags": [],
        "id": "thirty-thompson"
      },
      "source": [
        "# Deep Neural Network"
      ],
      "id": "thirty-thompson"
    },
    {
      "cell_type": "code",
      "metadata": {
        "execution": {
          "iopub.execute_input": "2021-05-08T06:56:14.143981Z",
          "iopub.status.busy": "2021-05-08T06:56:14.143299Z",
          "iopub.status.idle": "2021-05-08T06:56:14.150887Z",
          "shell.execute_reply": "2021-05-08T06:56:14.151462Z"
        },
        "papermill": {
          "duration": 0.031482,
          "end_time": "2021-05-08T06:56:14.151648",
          "exception": false,
          "start_time": "2021-05-08T06:56:14.120166",
          "status": "completed"
        },
        "tags": [],
        "id": "identified-vitamin"
      },
      "source": [
        "class NeuralNet(nn.Module):\n",
        "    ''' A simple fully-connected deep neural network '''\n",
        "    def __init__(self, input_dim):\n",
        "        super(NeuralNet, self).__init__()\n",
        "\n",
        "        # Define your neural network here\n",
        "        # TODO: How to modify this model to achieve better performance?\n",
        "        self.net = nn.Sequential(\n",
        "            nn.Linear(input_dim, 64),\n",
        "            nn.ReLU(),\n",
        "            nn.Linear(64, 1)\n",
        "        )\n",
        "\n",
        "        # Mean squared error loss\n",
        "        self.criterion = nn.MSELoss(reduction='mean')\n",
        "\n",
        "    def forward(self, x):\n",
        "        ''' Given input of size (batch_size x input_dim), compute output of the network '''\n",
        "        return self.net(x).squeeze(1)\n",
        "\n",
        "    def cal_loss(self, pred, target):\n",
        "        ''' Calculate loss '''\n",
        "        # TODO: you may implement L2 regularization here\n",
        "        return self.criterion(pred, target)"
      ],
      "id": "identified-vitamin",
      "execution_count": 171,
      "outputs": []
    },
    {
      "cell_type": "markdown",
      "metadata": {
        "papermill": {
          "duration": 0.020425,
          "end_time": "2021-05-08T06:56:14.192132",
          "exception": false,
          "start_time": "2021-05-08T06:56:14.171707",
          "status": "completed"
        },
        "tags": [],
        "id": "compliant-ridge"
      },
      "source": [
        "# Train/Dev/Test"
      ],
      "id": "compliant-ridge"
    },
    {
      "cell_type": "code",
      "metadata": {
        "execution": {
          "iopub.execute_input": "2021-05-08T06:56:14.236795Z",
          "iopub.status.busy": "2021-05-08T06:56:14.235939Z",
          "iopub.status.idle": "2021-05-08T06:56:14.247106Z",
          "shell.execute_reply": "2021-05-08T06:56:14.247622Z"
        },
        "papermill": {
          "duration": 0.035333,
          "end_time": "2021-05-08T06:56:14.247816",
          "exception": false,
          "start_time": "2021-05-08T06:56:14.212483",
          "status": "completed"
        },
        "tags": [],
        "id": "quiet-stranger"
      },
      "source": [
        "def train(tr_set, dv_set, model, config, device):\n",
        "    ''' DNN training '''\n",
        "\n",
        "    n_epochs = config['n_epochs']  # Maximum number of epochs\n",
        "\n",
        "    # Setup optimizer\n",
        "    optimizer = getattr(torch.optim, config['optimizer'])(\n",
        "        model.parameters(), **config['optim_hparas'])\n",
        "\n",
        "    min_mse = 1000.\n",
        "    loss_record = {'train': [], 'dev': []}      # for recording training loss\n",
        "    early_stop_cnt = 0\n",
        "    epoch = 0\n",
        "    while epoch < n_epochs:\n",
        "        model.train()                           # set model to training mode\n",
        "        for x, y in tr_set:                     # iterate through the dataloader\n",
        "            optimizer.zero_grad()               # set gradient to zero\n",
        "            x, y = x.to(device), y.to(device)   # move data to device (cpu/cuda)\n",
        "            pred = model(x)                     # forward pass (compute output)\n",
        "            mse_loss = model.cal_loss(pred, y)  # compute loss\n",
        "            mse_loss.backward()                 # compute gradient (backpropagation)\n",
        "            optimizer.step()                    # update model with optimizer\n",
        "            loss_record['train'].append(mse_loss.detach().cpu().item())\n",
        "\n",
        "        # After each epoch, test your model on the validation (development) set.\n",
        "        dev_mse = dev(dv_set, model, device)\n",
        "        if dev_mse < min_mse:\n",
        "            # Save model if your model improved\n",
        "            min_mse = dev_mse\n",
        "            print('Saving model (epoch = {:4d}, loss = {:.4f})'\n",
        "                .format(epoch + 1, min_mse))\n",
        "            torch.save(model.state_dict(), config['save_path'])  # Save model to specified path\n",
        "            early_stop_cnt = 0\n",
        "        else:\n",
        "            early_stop_cnt += 1\n",
        "\n",
        "        epoch += 1\n",
        "        loss_record['dev'].append(dev_mse)\n",
        "        if early_stop_cnt > config['early_stop']:\n",
        "            # Stop training if your model stops improving for \"config['early_stop']\" epochs.\n",
        "            break\n",
        "\n",
        "    print('Finished training after {} epochs'.format(epoch))\n",
        "    return min_mse, loss_record"
      ],
      "id": "quiet-stranger",
      "execution_count": 172,
      "outputs": []
    },
    {
      "cell_type": "code",
      "metadata": {
        "execution": {
          "iopub.execute_input": "2021-05-08T06:56:14.292575Z",
          "iopub.status.busy": "2021-05-08T06:56:14.291902Z",
          "iopub.status.idle": "2021-05-08T06:56:14.298763Z",
          "shell.execute_reply": "2021-05-08T06:56:14.299258Z"
        },
        "papermill": {
          "duration": 0.031261,
          "end_time": "2021-05-08T06:56:14.299446",
          "exception": false,
          "start_time": "2021-05-08T06:56:14.268185",
          "status": "completed"
        },
        "tags": [],
        "id": "labeled-beijing"
      },
      "source": [
        "def dev(dv_set, model, device):\n",
        "    model.eval()                                # set model to evalutation mode\n",
        "    total_loss = 0\n",
        "    for x, y in dv_set:                         # iterate through the dataloader\n",
        "        x, y = x.to(device), y.to(device)       # move data to device (cpu/cuda)\n",
        "        with torch.no_grad():                   # disable gradient calculation\n",
        "            pred = model(x)                     # forward pass (compute output)\n",
        "            mse_loss = model.cal_loss(pred, y)  # compute loss\n",
        "        total_loss += mse_loss.detach().cpu().item() * len(x)  # accumulate loss\n",
        "    total_loss = total_loss / len(dv_set.dataset)              # compute averaged loss\n",
        "\n",
        "    return total_loss"
      ],
      "id": "labeled-beijing",
      "execution_count": 173,
      "outputs": []
    },
    {
      "cell_type": "code",
      "metadata": {
        "execution": {
          "iopub.execute_input": "2021-05-08T06:56:14.345103Z",
          "iopub.status.busy": "2021-05-08T06:56:14.344404Z",
          "iopub.status.idle": "2021-05-08T06:56:14.350385Z",
          "shell.execute_reply": "2021-05-08T06:56:14.350950Z"
        },
        "papermill": {
          "duration": 0.030511,
          "end_time": "2021-05-08T06:56:14.351137",
          "exception": false,
          "start_time": "2021-05-08T06:56:14.320626",
          "status": "completed"
        },
        "tags": [],
        "id": "balanced-sterling"
      },
      "source": [
        "def test(tt_set, model, device):\n",
        "    model.eval()                                # set model to evalutation mode\n",
        "    preds = []\n",
        "    for x in tt_set:                            # iterate through the dataloader\n",
        "        x = x.to(device)                        # move data to device (cpu/cuda)\n",
        "        with torch.no_grad():                   # disable gradient calculation\n",
        "            pred = model(x)                     # forward pass (compute output)\n",
        "            preds.append(pred.detach().cpu())   # collect prediction\n",
        "    preds = torch.cat(preds, dim=0).numpy()     # concatenate all predictions and convert to a numpy array\n",
        "    return preds"
      ],
      "id": "balanced-sterling",
      "execution_count": 174,
      "outputs": []
    },
    {
      "cell_type": "markdown",
      "metadata": {
        "papermill": {
          "duration": 0.021913,
          "end_time": "2021-05-08T06:56:14.393602",
          "exception": false,
          "start_time": "2021-05-08T06:56:14.371689",
          "status": "completed"
        },
        "tags": [],
        "id": "opened-moore"
      },
      "source": [
        "# Setup Hyper-parameters"
      ],
      "id": "opened-moore"
    },
    {
      "cell_type": "code",
      "metadata": {
        "execution": {
          "iopub.execute_input": "2021-05-08T06:56:14.440302Z",
          "iopub.status.busy": "2021-05-08T06:56:14.439547Z",
          "iopub.status.idle": "2021-05-08T06:56:14.445367Z",
          "shell.execute_reply": "2021-05-08T06:56:14.446054Z"
        },
        "papermill": {
          "duration": 0.031608,
          "end_time": "2021-05-08T06:56:14.446249",
          "exception": false,
          "start_time": "2021-05-08T06:56:14.414641",
          "status": "completed"
        },
        "tags": [],
        "id": "plastic-demonstration"
      },
      "source": [
        "device = get_device()                 # get the current available device ('cpu' or 'cuda')\n",
        "os.makedirs('models', exist_ok=True)  # The trained model will be saved to ./models/\n",
        "target_only = True                   # TODO: Using 40 states & 2 tested_positive features\n",
        "\n",
        "# TODO: How to tune these hyper-parameters to improve your model's performance?\n",
        "config = {\n",
        "    'n_epochs': 3000,                # maximum number of epochs\n",
        "    'batch_size': 270,               # mini-batch size for dataloader\n",
        "    'optimizer': 'SGD',              # optimization algorithm (optimizer in torch.optim)\n",
        "    'optim_hparas': {                # hyper-parameters for the optimizer (depends on which optimizer you are using)\n",
        "        'lr': 0.001,                 # learning rate of SGD\n",
        "        'momentum': 0.9              # momentum for SGD\n",
        "    },\n",
        "    'early_stop': 200,               # early stopping epochs (the number epochs since your model's last improvement)\n",
        "    'save_path': 'models/model.pth'  # your model will be saved here\n",
        "}"
      ],
      "id": "plastic-demonstration",
      "execution_count": 175,
      "outputs": []
    },
    {
      "cell_type": "markdown",
      "metadata": {
        "papermill": {
          "duration": 0.020344,
          "end_time": "2021-05-08T06:56:14.487898",
          "exception": false,
          "start_time": "2021-05-08T06:56:14.467554",
          "status": "completed"
        },
        "tags": [],
        "id": "infrared-barcelona"
      },
      "source": [
        "# Load data and model"
      ],
      "id": "infrared-barcelona"
    },
    {
      "cell_type": "code",
      "metadata": {
        "execution": {
          "iopub.execute_input": "2021-05-08T06:56:14.533409Z",
          "iopub.status.busy": "2021-05-08T06:56:14.532576Z",
          "iopub.status.idle": "2021-05-08T06:56:15.587439Z",
          "shell.execute_reply": "2021-05-08T06:56:15.585534Z"
        },
        "papermill": {
          "duration": 1.079161,
          "end_time": "2021-05-08T06:56:15.587676",
          "exception": false,
          "start_time": "2021-05-08T06:56:14.508515",
          "status": "completed"
        },
        "tags": [],
        "colab": {
          "base_uri": "https://localhost:8080/"
        },
        "id": "diverse-yacht",
        "outputId": "fc0a0d64-a493-4d72-f637-ec6f2f0a33b1"
      },
      "source": [
        "tr_set = prep_dataloader(tr_path, 'train', config['batch_size'], target_only=target_only)\n",
        "dv_set = prep_dataloader(tr_path, 'dev', config['batch_size'], target_only=target_only)\n",
        "tt_set = prep_dataloader(tt_path, 'test', config['batch_size'], target_only=target_only)"
      ],
      "id": "diverse-yacht",
      "execution_count": 176,
      "outputs": [
        {
          "output_type": "stream",
          "name": "stdout",
          "text": [
            "covid.train.csv <_io.TextIOWrapper name='covid.train.csv' mode='r' encoding='UTF-8'>\n",
            "Finished reading the train set of COVID19 Dataset (2430 samples found, each dim = 42)\n",
            "covid.train.csv <_io.TextIOWrapper name='covid.train.csv' mode='r' encoding='UTF-8'>\n",
            "Finished reading the dev set of COVID19 Dataset (270 samples found, each dim = 42)\n",
            "covid.test.csv <_io.TextIOWrapper name='covid.test.csv' mode='r' encoding='UTF-8'>\n",
            "Finished reading the test set of COVID19 Dataset (893 samples found, each dim = 42)\n"
          ]
        }
      ]
    },
    {
      "cell_type": "code",
      "metadata": {
        "execution": {
          "iopub.execute_input": "2021-05-08T06:56:15.640760Z",
          "iopub.status.busy": "2021-05-08T06:56:15.640050Z",
          "iopub.status.idle": "2021-05-08T06:56:15.652164Z",
          "shell.execute_reply": "2021-05-08T06:56:15.652719Z"
        },
        "papermill": {
          "duration": 0.042648,
          "end_time": "2021-05-08T06:56:15.652940",
          "exception": false,
          "start_time": "2021-05-08T06:56:15.610292",
          "status": "completed"
        },
        "tags": [],
        "id": "political-raleigh"
      },
      "source": [
        "model = NeuralNet(tr_set.dataset.dim).to(device)  # Construct model and move to device"
      ],
      "id": "political-raleigh",
      "execution_count": 177,
      "outputs": []
    },
    {
      "cell_type": "markdown",
      "metadata": {
        "papermill": {
          "duration": 0.020963,
          "end_time": "2021-05-08T06:56:15.695828",
          "exception": false,
          "start_time": "2021-05-08T06:56:15.674865",
          "status": "completed"
        },
        "tags": [],
        "id": "level-portugal"
      },
      "source": [
        "# Start Training!"
      ],
      "id": "level-portugal"
    },
    {
      "cell_type": "code",
      "metadata": {
        "execution": {
          "iopub.execute_input": "2021-05-08T06:56:15.748035Z",
          "iopub.status.busy": "2021-05-08T06:56:15.747322Z",
          "iopub.status.idle": "2021-05-08T06:56:50.506803Z",
          "shell.execute_reply": "2021-05-08T06:56:50.507376Z"
        },
        "papermill": {
          "duration": 34.790216,
          "end_time": "2021-05-08T06:56:50.507600",
          "exception": false,
          "start_time": "2021-05-08T06:56:15.717384",
          "status": "completed"
        },
        "tags": [],
        "colab": {
          "base_uri": "https://localhost:8080/"
        },
        "id": "convinced-mathematics",
        "outputId": "14a044e8-a953-448f-db85-214f9435572c"
      },
      "source": [
        "model_loss, model_loss_record = train(tr_set, dv_set, model, config, device)"
      ],
      "id": "convinced-mathematics",
      "execution_count": 178,
      "outputs": [
        {
          "output_type": "stream",
          "name": "stdout",
          "text": [
            "Saving model (epoch =    1, loss = 245.3677)\n",
            "Saving model (epoch =    2, loss = 11.7495)\n",
            "Saving model (epoch =    5, loss = 5.7278)\n",
            "Saving model (epoch =    6, loss = 2.0373)\n",
            "Saving model (epoch =    8, loss = 1.9835)\n",
            "Saving model (epoch =    9, loss = 1.5859)\n",
            "Saving model (epoch =   10, loss = 1.4324)\n",
            "Saving model (epoch =   11, loss = 1.4101)\n",
            "Saving model (epoch =   12, loss = 1.3867)\n",
            "Saving model (epoch =   13, loss = 1.3410)\n",
            "Saving model (epoch =   14, loss = 1.3171)\n",
            "Saving model (epoch =   15, loss = 1.3015)\n",
            "Saving model (epoch =   16, loss = 1.2795)\n",
            "Saving model (epoch =   17, loss = 1.2627)\n",
            "Saving model (epoch =   18, loss = 1.2477)\n",
            "Saving model (epoch =   19, loss = 1.2380)\n",
            "Saving model (epoch =   20, loss = 1.2171)\n",
            "Saving model (epoch =   21, loss = 1.2057)\n",
            "Saving model (epoch =   22, loss = 1.1992)\n",
            "Saving model (epoch =   23, loss = 1.1864)\n",
            "Saving model (epoch =   24, loss = 1.1777)\n",
            "Saving model (epoch =   25, loss = 1.1683)\n",
            "Saving model (epoch =   26, loss = 1.1589)\n",
            "Saving model (epoch =   27, loss = 1.1482)\n",
            "Saving model (epoch =   28, loss = 1.1435)\n",
            "Saving model (epoch =   29, loss = 1.1391)\n",
            "Saving model (epoch =   30, loss = 1.1283)\n",
            "Saving model (epoch =   31, loss = 1.1272)\n",
            "Saving model (epoch =   32, loss = 1.1163)\n",
            "Saving model (epoch =   33, loss = 1.1138)\n",
            "Saving model (epoch =   34, loss = 1.1051)\n",
            "Saving model (epoch =   36, loss = 1.0977)\n",
            "Saving model (epoch =   37, loss = 1.0939)\n",
            "Saving model (epoch =   38, loss = 1.0923)\n",
            "Saving model (epoch =   39, loss = 1.0798)\n",
            "Saving model (epoch =   41, loss = 1.0762)\n",
            "Saving model (epoch =   42, loss = 1.0748)\n",
            "Saving model (epoch =   43, loss = 1.0704)\n",
            "Saving model (epoch =   44, loss = 1.0636)\n",
            "Saving model (epoch =   45, loss = 1.0609)\n",
            "Saving model (epoch =   47, loss = 1.0604)\n",
            "Saving model (epoch =   48, loss = 1.0523)\n",
            "Saving model (epoch =   49, loss = 1.0523)\n",
            "Saving model (epoch =   50, loss = 1.0465)\n",
            "Saving model (epoch =   52, loss = 1.0465)\n",
            "Saving model (epoch =   53, loss = 1.0416)\n",
            "Saving model (epoch =   54, loss = 1.0398)\n",
            "Saving model (epoch =   55, loss = 1.0382)\n",
            "Saving model (epoch =   57, loss = 1.0334)\n",
            "Saving model (epoch =   58, loss = 1.0284)\n",
            "Saving model (epoch =   60, loss = 1.0283)\n",
            "Saving model (epoch =   61, loss = 1.0253)\n",
            "Saving model (epoch =   63, loss = 1.0223)\n",
            "Saving model (epoch =   64, loss = 1.0192)\n",
            "Saving model (epoch =   67, loss = 1.0152)\n",
            "Saving model (epoch =   70, loss = 1.0100)\n",
            "Saving model (epoch =   72, loss = 1.0095)\n",
            "Saving model (epoch =   74, loss = 1.0057)\n",
            "Saving model (epoch =   77, loss = 1.0051)\n",
            "Saving model (epoch =   78, loss = 1.0019)\n",
            "Saving model (epoch =   81, loss = 0.9988)\n",
            "Saving model (epoch =   82, loss = 0.9982)\n",
            "Saving model (epoch =   84, loss = 0.9961)\n",
            "Saving model (epoch =   85, loss = 0.9947)\n",
            "Saving model (epoch =   88, loss = 0.9902)\n",
            "Saving model (epoch =   91, loss = 0.9899)\n",
            "Saving model (epoch =   93, loss = 0.9893)\n",
            "Saving model (epoch =   95, loss = 0.9876)\n",
            "Saving model (epoch =   98, loss = 0.9833)\n",
            "Saving model (epoch =  108, loss = 0.9819)\n",
            "Saving model (epoch =  109, loss = 0.9819)\n",
            "Saving model (epoch =  111, loss = 0.9812)\n",
            "Saving model (epoch =  115, loss = 0.9773)\n",
            "Saving model (epoch =  122, loss = 0.9741)\n",
            "Saving model (epoch =  126, loss = 0.9733)\n",
            "Saving model (epoch =  132, loss = 0.9714)\n",
            "Saving model (epoch =  136, loss = 0.9707)\n",
            "Saving model (epoch =  150, loss = 0.9705)\n",
            "Saving model (epoch =  153, loss = 0.9680)\n",
            "Saving model (epoch =  165, loss = 0.9670)\n",
            "Saving model (epoch =  167, loss = 0.9650)\n",
            "Saving model (epoch =  204, loss = 0.9627)\n",
            "Saving model (epoch =  220, loss = 0.9620)\n",
            "Saving model (epoch =  280, loss = 0.9617)\n",
            "Saving model (epoch =  318, loss = 0.9614)\n",
            "Finished training after 519 epochs\n"
          ]
        }
      ]
    },
    {
      "cell_type": "code",
      "metadata": {
        "execution": {
          "iopub.execute_input": "2021-05-08T06:56:50.604694Z",
          "iopub.status.busy": "2021-05-08T06:56:50.603883Z",
          "iopub.status.idle": "2021-05-08T06:56:50.842508Z",
          "shell.execute_reply": "2021-05-08T06:56:50.843146Z"
        },
        "papermill": {
          "duration": 0.30115,
          "end_time": "2021-05-08T06:56:50.843385",
          "exception": false,
          "start_time": "2021-05-08T06:56:50.542235",
          "status": "completed"
        },
        "tags": [],
        "colab": {
          "base_uri": "https://localhost:8080/",
          "height": 295
        },
        "id": "bottom-strip",
        "outputId": "af008146-8b3a-4ee0-bd1d-e1eb15c1ccba"
      },
      "source": [
        "plot_learning_curve(model_loss_record, title='deep model')"
      ],
      "id": "bottom-strip",
      "execution_count": 179,
      "outputs": [
        {
          "output_type": "display_data",
          "data": {
            "image/png": "[encoded data removed]",
            "text/plain": [
              "<Figure size 432x288 with 1 Axes>"
            ]
          },
          "metadata": {
            "needs_background": "light"
          }
        }
      ]
    },
    {
      "cell_type": "code",
      "metadata": {
        "execution": {
          "iopub.execute_input": "2021-05-08T06:56:50.924257Z",
          "iopub.status.busy": "2021-05-08T06:56:50.923417Z",
          "iopub.status.idle": "2021-05-08T06:56:51.123504Z",
          "shell.execute_reply": "2021-05-08T06:56:51.122740Z"
        },
        "papermill": {
          "duration": 0.243692,
          "end_time": "2021-05-08T06:56:51.123673",
          "exception": false,
          "start_time": "2021-05-08T06:56:50.879981",
          "status": "completed"
        },
        "tags": [],
        "colab": {
          "base_uri": "https://localhost:8080/",
          "height": 350
        },
        "id": "lovely-lindsay",
        "outputId": "1859c667-c0bf-40f6-af85-f106f06cc676"
      },
      "source": [
        "del model\n",
        "model = NeuralNet(tr_set.dataset.dim).to(device)\n",
        "ckpt = torch.load(config['save_path'], map_location='cpu')  # Load your best model\n",
        "model.load_state_dict(ckpt)\n",
        "plot_pred(dv_set, model, device)  # Show prediction on the validation set"
      ],
      "id": "lovely-lindsay",
      "execution_count": 180,
      "outputs": [
        {
          "output_type": "display_data",
          "data": {
            "image/png": "[encoded data removed]",
            "text/plain": [
              "<Figure size 360x360 with 1 Axes>"
            ]
          },
          "metadata": {
            "needs_background": "light"
          }
        }
      ]
    },
    {
      "cell_type": "markdown",
      "metadata": {
        "papermill": {
          "duration": 0.036908,
          "end_time": "2021-05-08T06:56:51.199562",
          "exception": false,
          "start_time": "2021-05-08T06:56:51.162654",
          "status": "completed"
        },
        "tags": [],
        "id": "joint-invite"
      },
      "source": [
        "# Testing"
      ],
      "id": "joint-invite"
    },
    {
      "cell_type": "code",
      "metadata": {
        "execution": {
          "iopub.execute_input": "2021-05-08T06:56:51.283699Z",
          "iopub.status.busy": "2021-05-08T06:56:51.282495Z",
          "iopub.status.idle": "2021-05-08T06:56:51.299721Z",
          "shell.execute_reply": "2021-05-08T06:56:51.298853Z"
        },
        "papermill": {
          "duration": 0.062582,
          "end_time": "2021-05-08T06:56:51.299975",
          "exception": false,
          "start_time": "2021-05-08T06:56:51.237393",
          "status": "completed"
        },
        "tags": [],
        "colab": {
          "base_uri": "https://localhost:8080/"
        },
        "id": "dramatic-dublin",
        "outputId": "f21408e8-6f97-4a38-eefe-6b609654abe3"
      },
      "source": [
        "def save_pred(preds, file):\n",
        "    ''' Save predictions to specified file '''\n",
        "    print('Saving results to {}'.format(file))\n",
        "    with open(file, 'w') as fp:\n",
        "        writer = csv.writer(fp)\n",
        "        writer.writerow(['id', 'tested_positive'])\n",
        "        for i, p in enumerate(preds):\n",
        "            writer.writerow([i, p])\n",
        "\n",
        "preds = test(tt_set, model, device)  # predict COVID-19 cases with your model\n",
        "save_pred(preds, 'pred.csv')         # save prediction file to pred.csv"
      ],
      "id": "dramatic-dublin",
      "execution_count": 181,
      "outputs": [
        {
          "output_type": "stream",
          "name": "stdout",
          "text": [
            "Saving results to pred.csv\n"
          ]
        }
      ]
    }
  ]
}
